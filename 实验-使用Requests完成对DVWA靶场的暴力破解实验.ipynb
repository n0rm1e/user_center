{
 "cells": [
  {
   "cell_type": "markdown",
   "id": "25a2772c-32d3-4438-b60a-91d52698cdd0",
   "metadata": {},
   "source": [
    "# 0.1 实验说明"
   ]
  },
  {
   "cell_type": "markdown",
   "id": "c770c630-9149-4b65-9d91-19a7890df33e",
   "metadata": {},
   "source": [
    "- 搭建 DVWA 靶机，完成其中的暴力破解（Brute Force）实验 \n",
    "- 将实验内容填写在给定 Jupyter Notebook 文件的指定位置即可\n",
    "- 需提交材料\n",
    "    - CG平台：Jupyter Notebook 文件（带输出结果），还需提交一份相同内容的 PDF 格式文件\n",
    "    - 相同内容的纸质打印版\n",
    "- 实验内容会有查重，如发现问题，会现场验收"
   ]
  },
  {
   "cell_type": "markdown",
   "id": "90038f2e-6f43-4a79-a8aa-71470f931038",
   "metadata": {},
   "source": [
    "# 0.2 学生信息"
   ]
  },
  {
   "cell_type": "markdown",
   "id": "5b7e3de5-767e-4ce9-8f72-4e6c503f493d",
   "metadata": {},
   "source": [
    "- 班级：网络21-1班\n",
    "- 学号：2021083111  \n",
    "- 姓名：李修涵"
   ]
  },
  {
   "cell_type": "markdown",
   "id": "b3d7e7bf-bbcc-449b-8b96-0eb769e31904",
   "metadata": {},
   "source": [
    "# 1. Low 级别"
   ]
  },
  {
   "cell_type": "markdown",
   "id": "e4535b85-b763-42d2-b13e-2d490bfc82b9",
   "metadata": {},
   "source": [
    "## 1.1 问题分析"
   ]
  },
  {
   "cell_type": "markdown",
   "id": "a49f5d68-007a-4306-8a5f-40578a359ce9",
   "metadata": {},
   "source": [
    "由于没有对登录页面进行相关的防暴力破解机制，如无验证码、有验证码但验证码未在服务器端校验以及无登录错误次数限制等，导致攻击者可通过暴力破解获取用户登录账户及口令，从而获取网站登录访问权限\n"
   ]
  },
  {
   "cell_type": "markdown",
   "id": "f349f23b-da5e-4f93-8158-9b4885d61b7e",
   "metadata": {},
   "source": [
    "## 1.2 防护情况"
   ]
  },
  {
   "cell_type": "markdown",
   "id": "f0c1b08a-00fb-412e-b8de-3713c7d62b7f",
   "metadata": {},
   "source": [
    "\n",
    "就是一个只实现了登入的代码，只是对密码进行md5加密，防止我们通过密码进行SQL注入（可以使用username进行SQL注入），可没有对帐号的登入尝试次数做限制。"
   ]
  },
  {
   "cell_type": "markdown",
   "id": "43f985c9-bff6-439a-9660-8b33f39e6d76",
   "metadata": {},
   "source": [
    "## 1.3 攻击源码"
   ]
  },
  {
   "cell_type": "markdown",
   "id": "8baee7d3-0b7a-4a8c-9b53-351651f70bf3",
   "metadata": {},
   "source": [
    "打开burp对此网站抓包，随便输入用户名和密码\n",
    "\n",
    " <img src='./dvwa-BF/1.png' width=\"40%\">\n",
    "\n",
    "然后进行抓包\n",
    "\n",
    " <img src='./dvwa-BF/2.png' width=\"40%\">\n",
    "\n",
    "将此数据包发送到intruder模块，这里会有几个标出来的字段，直接选择clear，选中需要爆破是username和password的值利用add添加.\n",
    " <img src='./dvwa-BF/3.png' width=\"40%\">\n",
    "\n",
    "选中paysloads模块，进行设置，直接在payload options选择load去添加字典，或者用add添加单个字段\n",
    "\n",
    " <img src='./dvwa-BF/4.png' width=\"40%\">\n",
    "\n",
    "输出结果\n",
    "\n",
    " <img src='./dvwa-BF/13.png' width=\"40%\">"
   ]
  },
  {
   "cell_type": "markdown",
   "id": "6133cd85-513c-47b7-ba86-f7556706c230",
   "metadata": {},
   "source": [
    "# 2. Medium 级别"
   ]
  },
  {
   "cell_type": "markdown",
   "id": "08bc5417-3496-4538-aad1-3cc04ea1a7fe",
   "metadata": {},
   "source": [
    "## 2.1 问题分析\n",
    "没有验证码，错误次数限制，而且用户名密码明文传输，但是增加了登陆间隔时间，所以用 burpsuit 抓包后用字典自动化爆破"
   ]
  },
  {
   "cell_type": "markdown",
   "id": "f0dd3bba-79d5-42e5-ad56-903871a25a2f",
   "metadata": {},
   "source": [
    "## 2.2 防护情况"
   ]
  },
  {
   "cell_type": "markdown",
   "id": "51d7beb3-43d6-43ed-ab68-32be7c60e8ed",
   "metadata": {},
   "source": [
    "这边的代码加上了一个，延迟两秒才能下一个，所以延长了爆破时间，增加的是时间成本。"
   ]
  },
  {
   "cell_type": "markdown",
   "id": "c34b1b3b-49e1-40b5-979b-4b5a2821bec6",
   "metadata": {},
   "source": [
    "## 2.3 攻击源码"
   ]
  },
  {
   "cell_type": "markdown",
   "id": "55b38d59-7726-4a84-8f02-f304bc8200b0",
   "metadata": {},
   "source": [
    "\n",
    " <img src='./dvwa-BF/3.png' width=\"40%\">\n",
    "\n",
    "需要设置时停\n",
    "\n",
    " <img src='./dvwa-BF/7.png' width=\"20%\">\n",
    "\n",
    "输出结果\n",
    "\n",
    "<img src = \"./dvwa-BF/9.png\" width = \"30%\">\n"
   ]
  },
  {
   "cell_type": "markdown",
   "id": "6efb821b-4c54-4d25-95ea-089990868288",
   "metadata": {},
   "source": [
    "# 3. High 级别"
   ]
  },
  {
   "cell_type": "markdown",
   "id": "69f7ea3c-ed18-4829-a238-b9786b5613c0",
   "metadata": {},
   "source": [
    "## 3.1 问题分析"
   ]
  },
  {
   "cell_type": "code",
   "execution_count": null,
   "id": "c2f2e5e3",
   "metadata": {},
   "outputs": [],
   "source": [
    "if( isset( $_GET[ 'Login' ] ) ) {\n",
    "    // Check Anti-CSRF token\n",
    "    checkToken( $_REQUEST[ 'user_token' ], $_SESSION[ 'session_token' ], 'index.php' );\n",
    "\n",
    "    // Sanitise username input\n",
    "    $user = $_GET[ 'username' ];\n",
    "    $user = stripslashes( $user );\n",
    "    $user = ((isset($GLOBALS[\"___mysqli_ston\"]) && is_object($GLOBALS[\"___mysqli_ston\"])) ? mysqli_real_escape_string($GLOBALS[\"___mysqli_ston\"],  $user ) : ((trigger_error(\"[MySQLConverterToo] Fix the mysql_escape_string() call! This code does not work.\", E_USER_ERROR)) ? \"\" : \"\"));\n",
    "\n",
    "    // Sanitise password input\n",
    "    $pass = $_GET[ 'password' ];\n",
    "    $pass = stripslashes( $pass );\n",
    "    $pass = ((isset($GLOBALS[\"___mysqli_ston\"]) && is_object($GLOBALS[\"___mysqli_ston\"])) ? mysqli_real_escape_string($GLOBALS[\"___mysqli_ston\"],  $pass ) : ((trigger_error(\"[MySQLConverterToo] Fix the mysql_escape_string() call! This code does not work.\", E_USER_ERROR)) ? \"\" : \"\"));\n",
    "    $pass = md5( $pass );\n",
    "\n",
    "    // Check database\n",
    "    $query  = \"SELECT * FROM `users` WHERE user = '$user' AND password = '$pass';\";\n",
    "    $result = mysqli_query($GLOBALS[\"___mysqli_ston\"],  $query ) or die( '<pre>' . ((is_object($GLOBALS[\"___mysqli_ston\"])) ? mysqli_error($GLOBALS[\"___mysqli_ston\"]) : (($___mysqli_res = mysqli_connect_error()) ? $___mysqli_res : false)) . '</pre>' );\n",
    "\n",
    "    if( $result && mysqli_num_rows( $result ) == 1 ) {\n",
    "        // Get users details\n",
    "        $row    = mysqli_fetch_assoc( $result );\n",
    "        $avatar = $row[\"avatar\"];\n",
    "\n",
    "        // Login successful\n",
    "        echo \"<p>Welcome to the password protected area {$user}</p>\";\n",
    "        echo \"<img src=\\\"{$avatar}\\\" />\";\n",
    "    }\n",
    "    else {\n",
    "        // Login failed\n",
    "        sleep( rand( 0, 3 ) );\n",
    "        echo \"<pre><br />Username and/or password incorrect.</pre>\";\n",
    "    }\n",
    "\n",
    "    ((is_null($___mysqli_res = mysqli_close($GLOBALS[\"___mysqli_ston\"]))) ? false : $___mysqli_res);\n",
    "}\n",
    "\n",
    "// Generate Anti-CSRF token\n",
    "generateSessionToken();\n",
    "\n"
   ]
  },
  {
   "cell_type": "markdown",
   "id": "99202f36-c4b0-482f-8382-8f7e097da7a8",
   "metadata": {},
   "source": [
    "## 3.2 防护情况"
   ]
  },
  {
   "cell_type": "markdown",
   "id": "1348c500-f2e3-4e6c-a3a7-778672fd0ce9",
   "metadata": {},
   "source": [
    "前面的防护基础上加上了Anti-CSRF token来抵御CSRF的攻击，使用了stripslashes函数和mysqli_real_esacpe_string来抵御SQL注入和XSS的攻击。由于使用了Anti-CSRF token，每次服务器返回的登陆页面中都会包含一个随机的user_token的值，用户每次登录时都要将user_token一起提交。服务器收到请求后，会优先做token的检查，再进行sql查询。"
   ]
  },
  {
   "cell_type": "markdown",
   "id": "dd559eff-ae36-489a-adc0-757f5b6885c7",
   "metadata": {},
   "source": [
    "## 3.3 攻击源码"
   ]
  },
  {
   "cell_type": "markdown",
   "id": "ba9cd533-c418-4365-bb50-28a7dad0e1f8",
   "metadata": {},
   "source": [
    "修改options下的grep-extract\n",
    "\n",
    " <img src='./dvwa-BF/10.png' width=\"30%\">\n",
    "\n",
    "找到token，先修改值，在单击refetch response\n",
    "\n",
    " <img src='./dvwa-BF/11.png' width=\"30%\">\n",
    " <br>\n",
    " <img src='./dvwa-BF/12.png' width=\"30%\">\n",
    "\n",
    "将payloads下的payload set 改为2\n",
    "\n",
    "输出结果\n",
    "\n",
    " <img src='./dvwa-BF/14.png' width=\"30%\">\n",
    "\n"
   ]
  },
  {
   "cell_type": "markdown",
   "id": "9ccefc32-e167-494a-ac04-70f0c6c24cc7",
   "metadata": {},
   "source": [
    "# 4. Impossible 级别分析"
   ]
  },
  {
   "cell_type": "markdown",
   "id": "40b633b0-2376-4497-9990-2b499bd5e353",
   "metadata": {},
   "source": [
    "在上一难度的基础上对用户的操作做了限制，当登入失败3次后，账号会锁住15s，同时采用了更为安全的PDO（PHP Data Object）机制防御sql注入，这里因为不能使用PDO扩展本身执行任何数据库操作，而sql注入的关键就是通过破坏sql语句结构执行恶意的sql命令。\n"
   ]
  },
  {
   "cell_type": "markdown",
   "id": "d0ba7de0-120f-4293-aeb4-8a287d371eef",
   "metadata": {},
   "source": [
    "# 5. 心得体会"
   ]
  },
  {
   "cell_type": "markdown",
   "id": "189cdef4-69a1-4ccf-8ab1-be51cb174d1a",
   "metadata": {},
   "source": [
    "理解攻击原理：通过尝试不同难度级别的Brute Force攻击，我更深入地理解了Brute Force攻击的原理和工作方式。这包括如何选择合适的字典、暴力破解的原理等。\n",
    "认识到不同难度的差异：通过破解不同难度级别的目标，我意识到不同难度级别之间存在着差异。比如，低难度级别可能存在较为简单的密码，而高难度级别可能会有更复杂的防御措施。\n",
    "强调安全意识：通过这个过程，我更加重视密码安全和防御措施的重要性。这可能会促使我在日常生活和工作中更加注意密码的选择和管理，以及其他安全实践。\n",
    "练习技能：Brute Force攻击是网络安全领域的一项基本技能。通过在DVWA靶场上的练习，我可以提高自己的技能水平，为应对实际场景中的安全挑战做好准备。\n",
    "学习防御措施：在尝试破解不同难度级别的目标时，我也意识到了一些防御措施的重要性。这可能包括强化密码策略、实施账户锁定机制、使用多因素认证等等。"
   ]
  },
  {
   "cell_type": "markdown",
   "id": "d10c6c0f-4f08-471b-bf2c-fc3412ddba85",
   "metadata": {},
   "source": [
    "# 6. 参考文献"
   ]
  },
  {
   "cell_type": "markdown",
   "id": "8b669dcc-3ad9-4728-a587-89954657dfb7",
   "metadata": {},
   "source": [
    "1. dvwa靶场Brute Force（暴力破解）全难度教程（附代码分析）,https://blog.csdn.net/m0_73248913/article/details/128769294\n",
    "2. DVWA —— Brute Force 暴力破解, https://blog.csdn.net/YouTheFreedom/article/details/130786146\n",
    "3. DVWA实战篇- Brute Force（暴力破解），https://zhuanlan.zhihu.com/p/378191004"
   ]
  },
  {
   "cell_type": "markdown",
   "id": "27b0c873-6441-473a-9122-aa35bca59df4",
   "metadata": {},
   "source": [
    "# 7. 评分及评语"
   ]
  },
  {
   "cell_type": "markdown",
   "id": "0100afcc-7067-4f14-abe5-7f6764508deb",
   "metadata": {},
   "source": [
    "- 评分：\n",
    "- 评语："
   ]
  },
  {
   "cell_type": "markdown",
   "id": "fc367d52",
   "metadata": {},
   "source": []
  }
 ],
 "metadata": {
  "kernelspec": {
   "display_name": "Python 3 (ipykernel)",
   "language": "python",
   "name": "python3"
  },
  "language_info": {
   "codemirror_mode": {
    "name": "ipython",
    "version": 3
   },
   "file_extension": ".py",
   "mimetype": "text/x-python",
   "name": "python",
   "nbconvert_exporter": "python",
   "pygments_lexer": "ipython3",
   "version": "3.11.2"
  }
 },
 "nbformat": 4,
 "nbformat_minor": 5
}
